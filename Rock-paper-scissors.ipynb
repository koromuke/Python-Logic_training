{
 "cells": [
  {
   "cell_type": "markdown",
   "metadata": {},
   "source": [
    "# じゃんけんゲーム"
   ]
  },
  {
   "cell_type": "code",
   "execution_count": 1,
   "metadata": {},
   "outputs": [
    {
     "name": "stdout",
     "output_type": "stream",
     "text": [
      "0:グー　1:チョキ　2:パー 3:やめる2\n",
      "あなたパー,コンピューター:グー\n",
      "勝ち\n",
      "0:グー　1:チョキ　2:パー 3:やめる3\n"
     ]
    }
   ],
   "source": [
    "from random import randint\n",
    "hands = {0:\"グー\",1:\"チョキ\",2:\"パー\"}\n",
    "rules = {(0,0):\"あいこ\",(0,1):\"勝ち\",(0,2):\"負け\",\n",
    "        (1,0):\"負け\",(1,1):\"あいこ\",(1,2):\"勝ち\",\n",
    "        (2,0):\"勝ち\",(2,1):\"負け\",(2,2):\"あいこ\"}\n",
    "\n",
    "while True:\n",
    "    pc_hand = randint(0,2)\n",
    "    user_hand_str = input(\"0:グー　1:チョキ　2:パー 3:やめる\")\n",
    "    if user_hand_str == \"3\":\n",
    "        break\n",
    "    if user_hand_str not in (\"0\",\"1\",\"2\"):\n",
    "        continue\n",
    "    user_hand = int(user_hand_str)\n",
    "    print(\"あなた\"+hands[user_hand]+\",コンピューター:\"+hands[pc_hand])\n",
    "    \n",
    "    print(rules[user_hand,pc_hand])"
   ]
  },
  {
   "cell_type": "markdown",
   "metadata": {},
   "source": [
    "# 素数判定"
   ]
  },
  {
   "cell_type": "code",
   "execution_count": 2,
   "metadata": {},
   "outputs": [
    {
     "name": "stdout",
     "output_type": "stream",
     "text": [
      "59 は素数です\n"
     ]
    }
   ],
   "source": [
    "a_num = 59\n",
    "for num in range(2,a_num):\n",
    "    if a_num % num == 0:\n",
    "        print(a_num,\"は素数ではありません\")\n",
    "        break\n",
    "\n",
    "else:\n",
    "    print(a_num,\"は素数です\")"
   ]
  },
  {
   "cell_type": "code",
   "execution_count": null,
   "metadata": {},
   "outputs": [],
   "source": []
  }
 ],
 "metadata": {
  "kernelspec": {
   "display_name": "Python 3",
   "language": "python",
   "name": "python3"
  },
  "language_info": {
   "codemirror_mode": {
    "name": "ipython",
    "version": 3
   },
   "file_extension": ".py",
   "mimetype": "text/x-python",
   "name": "python",
   "nbconvert_exporter": "python",
   "pygments_lexer": "ipython3",
   "version": "3.6.4"
  }
 },
 "nbformat": 4,
 "nbformat_minor": 2
}
